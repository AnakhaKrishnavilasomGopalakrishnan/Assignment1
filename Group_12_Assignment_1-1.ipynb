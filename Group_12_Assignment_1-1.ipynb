{
  "cells": [
    {
      "cell_type": "markdown",
      "source": [
        "Group 12\n",
        "\n",
        "Anakha Krishnavilasom Gopalakrishnan -  8 hours\n",
        "\n",
        "Daniel Juster - 8 hours"
      ],
      "metadata": {
        "id": "gYQOSO7hTnfR"
      },
      "id": "gYQOSO7hTnfR"
    },
    {
      "cell_type": "markdown",
      "source": [
        "# **A**\n",
        "\n",
        "**Task**\n",
        "\n",
        "Write a Python program that draws a scatter plot of GDP per capita vs life\n",
        "expectancy.\n",
        "\n",
        "State any assumptions and motivate decisions that you make when selecting data to be plotted, and in combining data.\n",
        "\n",
        "\n",
        "**Assumptions** \n",
        "\n",
        "We assume that we will find a correlation between GDP and life expectancy, regardless of country.\n",
        "We also assume that we will need to test the scatter-plotting a bit until we get it right.\n",
        "Further, we assume that the list of countries are correct and that they are the same for both files we download. (later, we will see that this is not the case. E.g. some countries are missing, continents like Africa are listed…)\n",
        "\n",
        "**Decisions**\n",
        "\n",
        "We decide to import two files, everything to see how it works.\n",
        "We decide on the following layout:\n",
        "\n",
        "y-axis = life expectancy\n",
        "\n",
        "x-axis = GDP\n"
      ],
      "metadata": {
        "id": "tOF4l6FZqu7f"
      },
      "id": "tOF4l6FZqu7f"
    },
    {
      "cell_type": "code",
      "execution_count": 276,
      "id": "9a74485b",
      "metadata": {
        "id": "9a74485b",
        "colab": {
          "base_uri": "https://localhost:8080/"
        },
        "outputId": "20b02a4a-b9ee-4eb9-d54c-f87ef6e2f34b"
      },
      "outputs": [
        {
          "output_type": "stream",
          "name": "stdout",
          "text": [
            "Drive already mounted at /content/drive; to attempt to forcibly remount, call drive.mount(\"/content/drive\", force_remount=True).\n"
          ]
        }
      ],
      "source": [
        "# Importing librarties\n",
        "\n",
        "import pandas as pd\n",
        "import matplotlib.pyplot as plt\n",
        "from google.colab import drive\n",
        "drive.mount('/content/drive')"
      ]
    },
    {
      "cell_type": "code",
      "execution_count": 277,
      "id": "e5ae373f",
      "metadata": {
        "id": "e5ae373f",
        "outputId": "39df23f4-91c2-47df-ef4d-0d5ffbfe61a8",
        "colab": {
          "base_uri": "https://localhost:8080/"
        }
      },
      "outputs": [
        {
          "output_type": "stream",
          "name": "stdout",
          "text": [
            "            Entity Code  Year  GDP per capita 417485-annotations\n",
            "0      Afghanistan  AFG  1950       1156.0000                NaN\n",
            "1      Afghanistan  AFG  1951       1170.0000                NaN\n",
            "2      Afghanistan  AFG  1952       1189.0000                NaN\n",
            "3      Afghanistan  AFG  1953       1240.0000                NaN\n",
            "4      Afghanistan  AFG  1954       1245.0000                NaN\n",
            "...            ...  ...   ...             ...                ...\n",
            "19871     Zimbabwe  ZWE  2014       1594.0000                NaN\n",
            "19872     Zimbabwe  ZWE  2015       1560.0000                NaN\n",
            "19873     Zimbabwe  ZWE  2016       1534.0000                NaN\n",
            "19874     Zimbabwe  ZWE  2017       1582.3662                NaN\n",
            "19875     Zimbabwe  ZWE  2018       1611.4052                NaN\n",
            "\n",
            "[19876 rows x 5 columns]\n"
          ]
        }
      ],
      "source": [
        "# Importing a lot of data\n",
        "\n",
        "# Import gdp data\n",
        "file_path = \"/content/drive/MyDrive/test/gdp-per-capita-maddison-2020.csv\"\n",
        "\n",
        "gdpDataCapita = pd.read_csv(file_path)\n",
        "print(gdpDataCapita)\n",
        "\n",
        "\n",
        "# Import Life exp\n",
        "filee_path = \"/content/drive/MyDrive/test/life-expectancy.csv\"\n",
        "\n",
        "LifeExpectData = pd.read_csv(filee_path)\n"
      ]
    },
    {
      "cell_type": "code",
      "execution_count": 278,
      "id": "7c84a59d",
      "metadata": {
        "id": "7c84a59d"
      },
      "outputs": [],
      "source": [
        "# We will get too much data. The scatter-plotting will be all blue, so we need to narrow down. We select 1980 only.\n",
        "gdpDataCapita = gdpDataCapita[gdpDataCapita['Year'] == 1980]\n",
        "LifeExpectData = LifeExpectData[LifeExpectData['Year'] == 1980]\n"
      ]
    },
    {
      "cell_type": "code",
      "execution_count": 279,
      "id": "e839ec51",
      "metadata": {
        "id": "e839ec51",
        "colab": {
          "base_uri": "https://localhost:8080/",
          "height": 206
        },
        "outputId": "64e323ff-37d2-4381-a813-2ffd6495bfed"
      },
      "outputs": [
        {
          "output_type": "execute_result",
          "data": {
            "text/plain": [
              "        Entity  Life expectancy at birth (historical)  GDP per capita\n",
              "0  Afghanistan                                   39.6          1019.0\n",
              "1      Albania                                   70.5          3741.0\n",
              "2      Algeria                                   53.3          5024.0\n",
              "3       Angola                                   42.4          1532.0\n",
              "4    Argentina                                   68.6         13080.0"
            ],
            "text/html": [
              "\n",
              "  <div id=\"df-f583d668-cd98-4141-b46b-09913f679133\">\n",
              "    <div class=\"colab-df-container\">\n",
              "      <div>\n",
              "<style scoped>\n",
              "    .dataframe tbody tr th:only-of-type {\n",
              "        vertical-align: middle;\n",
              "    }\n",
              "\n",
              "    .dataframe tbody tr th {\n",
              "        vertical-align: top;\n",
              "    }\n",
              "\n",
              "    .dataframe thead th {\n",
              "        text-align: right;\n",
              "    }\n",
              "</style>\n",
              "<table border=\"1\" class=\"dataframe\">\n",
              "  <thead>\n",
              "    <tr style=\"text-align: right;\">\n",
              "      <th></th>\n",
              "      <th>Entity</th>\n",
              "      <th>Life expectancy at birth (historical)</th>\n",
              "      <th>GDP per capita</th>\n",
              "    </tr>\n",
              "  </thead>\n",
              "  <tbody>\n",
              "    <tr>\n",
              "      <th>0</th>\n",
              "      <td>Afghanistan</td>\n",
              "      <td>39.6</td>\n",
              "      <td>1019.0</td>\n",
              "    </tr>\n",
              "    <tr>\n",
              "      <th>1</th>\n",
              "      <td>Albania</td>\n",
              "      <td>70.5</td>\n",
              "      <td>3741.0</td>\n",
              "    </tr>\n",
              "    <tr>\n",
              "      <th>2</th>\n",
              "      <td>Algeria</td>\n",
              "      <td>53.3</td>\n",
              "      <td>5024.0</td>\n",
              "    </tr>\n",
              "    <tr>\n",
              "      <th>3</th>\n",
              "      <td>Angola</td>\n",
              "      <td>42.4</td>\n",
              "      <td>1532.0</td>\n",
              "    </tr>\n",
              "    <tr>\n",
              "      <th>4</th>\n",
              "      <td>Argentina</td>\n",
              "      <td>68.6</td>\n",
              "      <td>13080.0</td>\n",
              "    </tr>\n",
              "  </tbody>\n",
              "</table>\n",
              "</div>\n",
              "      <button class=\"colab-df-convert\" onclick=\"convertToInteractive('df-f583d668-cd98-4141-b46b-09913f679133')\"\n",
              "              title=\"Convert this dataframe to an interactive table.\"\n",
              "              style=\"display:none;\">\n",
              "        \n",
              "  <svg xmlns=\"http://www.w3.org/2000/svg\" height=\"24px\"viewBox=\"0 0 24 24\"\n",
              "       width=\"24px\">\n",
              "    <path d=\"M0 0h24v24H0V0z\" fill=\"none\"/>\n",
              "    <path d=\"M18.56 5.44l.94 2.06.94-2.06 2.06-.94-2.06-.94-.94-2.06-.94 2.06-2.06.94zm-11 1L8.5 8.5l.94-2.06 2.06-.94-2.06-.94L8.5 2.5l-.94 2.06-2.06.94zm10 10l.94 2.06.94-2.06 2.06-.94-2.06-.94-.94-2.06-.94 2.06-2.06.94z\"/><path d=\"M17.41 7.96l-1.37-1.37c-.4-.4-.92-.59-1.43-.59-.52 0-1.04.2-1.43.59L10.3 9.45l-7.72 7.72c-.78.78-.78 2.05 0 2.83L4 21.41c.39.39.9.59 1.41.59.51 0 1.02-.2 1.41-.59l7.78-7.78 2.81-2.81c.8-.78.8-2.07 0-2.86zM5.41 20L4 18.59l7.72-7.72 1.47 1.35L5.41 20z\"/>\n",
              "  </svg>\n",
              "      </button>\n",
              "      \n",
              "  <style>\n",
              "    .colab-df-container {\n",
              "      display:flex;\n",
              "      flex-wrap:wrap;\n",
              "      gap: 12px;\n",
              "    }\n",
              "\n",
              "    .colab-df-convert {\n",
              "      background-color: #E8F0FE;\n",
              "      border: none;\n",
              "      border-radius: 50%;\n",
              "      cursor: pointer;\n",
              "      display: none;\n",
              "      fill: #1967D2;\n",
              "      height: 32px;\n",
              "      padding: 0 0 0 0;\n",
              "      width: 32px;\n",
              "    }\n",
              "\n",
              "    .colab-df-convert:hover {\n",
              "      background-color: #E2EBFA;\n",
              "      box-shadow: 0px 1px 2px rgba(60, 64, 67, 0.3), 0px 1px 3px 1px rgba(60, 64, 67, 0.15);\n",
              "      fill: #174EA6;\n",
              "    }\n",
              "\n",
              "    [theme=dark] .colab-df-convert {\n",
              "      background-color: #3B4455;\n",
              "      fill: #D2E3FC;\n",
              "    }\n",
              "\n",
              "    [theme=dark] .colab-df-convert:hover {\n",
              "      background-color: #434B5C;\n",
              "      box-shadow: 0px 1px 3px 1px rgba(0, 0, 0, 0.15);\n",
              "      filter: drop-shadow(0px 1px 2px rgba(0, 0, 0, 0.3));\n",
              "      fill: #FFFFFF;\n",
              "    }\n",
              "  </style>\n",
              "\n",
              "      <script>\n",
              "        const buttonEl =\n",
              "          document.querySelector('#df-f583d668-cd98-4141-b46b-09913f679133 button.colab-df-convert');\n",
              "        buttonEl.style.display =\n",
              "          google.colab.kernel.accessAllowed ? 'block' : 'none';\n",
              "\n",
              "        async function convertToInteractive(key) {\n",
              "          const element = document.querySelector('#df-f583d668-cd98-4141-b46b-09913f679133');\n",
              "          const dataTable =\n",
              "            await google.colab.kernel.invokeFunction('convertToInteractive',\n",
              "                                                     [key], {});\n",
              "          if (!dataTable) return;\n",
              "\n",
              "          const docLinkHtml = 'Like what you see? Visit the ' +\n",
              "            '<a target=\"_blank\" href=https://colab.research.google.com/notebooks/data_table.ipynb>data table notebook</a>'\n",
              "            + ' to learn more about interactive tables.';\n",
              "          element.innerHTML = '';\n",
              "          dataTable['output_type'] = 'display_data';\n",
              "          await google.colab.output.renderOutput(dataTable, element);\n",
              "          const docLink = document.createElement('div');\n",
              "          docLink.innerHTML = docLinkHtml;\n",
              "          element.appendChild(docLink);\n",
              "        }\n",
              "      </script>\n",
              "    </div>\n",
              "  </div>\n",
              "  "
            ]
          },
          "metadata": {},
          "execution_count": 279
        }
      ],
      "source": [
        "# Now we need to merge the data-sets and remove what we do not need. We keep Entity (country), Life expectency and GDP.\n",
        "\n",
        "MergedData = pd.merge(LifeExpectData[['Entity', 'Life expectancy at birth (historical)']], gdpDataCapita[['Entity', 'GDP per capita']], on ='Entity')\n",
        "\n",
        "# Check that the data looks OK.\n",
        "MergedData.head(5)\n"
      ]
    },
    {
      "cell_type": "code",
      "execution_count": 280,
      "id": "591a5d40",
      "metadata": {
        "id": "591a5d40",
        "colab": {
          "base_uri": "https://localhost:8080/",
          "height": 313
        },
        "outputId": "8552a417-2b80-4a64-c3ae-1a0b513a20d0"
      },
      "outputs": [
        {
          "output_type": "execute_result",
          "data": {
            "text/plain": [
              "<matplotlib.collections.PathCollection at 0x7f0f16421880>"
            ]
          },
          "metadata": {},
          "execution_count": 280
        },
        {
          "output_type": "display_data",
          "data": {
            "text/plain": [
              "<Figure size 432x288 with 1 Axes>"
            ],
            "image/png": "[encoded data removed]"
          },
          "metadata": {
            "needs_background": "light"
          }
        }
      ],
      "source": [
        "# Adding some labels and a title to the graph\n",
        "plt.xlabel('GDP per capita')\n",
        "plt.ylabel('Life expectancy')\n",
        "plt.title('1980')\n",
        "\n",
        "\n",
        "# In case we have rows where life expectation OR GDP is missing, we need to remove these.\n",
        "MergedData = MergedData.dropna() \n",
        "\n",
        "# Now, time to scatter \n",
        "plt.scatter(MergedData['GDP per capita'], MergedData['Life expectancy at birth (historical)'])\n",
        "\n"
      ]
    },
    {
      "cell_type": "markdown",
      "source": [
        "#**B**\n",
        "\n",
        "**Task**\n",
        "\n",
        "Which countries have a life expectancy higher than one standard deviation above the mean? \n"
      ],
      "metadata": {
        "id": "6guVW4v7tdMB"
      },
      "id": "6guVW4v7tdMB"
    },
    {
      "cell_type": "code",
      "source": [
        "# Now, time to scatter \n",
        "plt.scatter(MergedData['GDP per capita'], MergedData['Life expectancy at birth (historical)'])\n",
        "\n",
        "# Add labels to each dot\n",
        "#for j in range(len(MergedData)):\n",
        " #  plt.annotate(MergedData['Entity'][j], (MergedData['GDP per capita'][j], MergedData['Life expectancy at birth (historical)'][j]))\n",
        "\n",
        "\n",
        "for j in range(len(MergedData)):\n",
        "  if (MergedData['Entity'][j] == \"Iceland\")or (MergedData['Entity'][j] == \"India\"):\n",
        "    plt.annotate(MergedData['Entity'][j], (MergedData['GDP per capita'][j], MergedData['Life expectancy at birth (historical)'][j]))\n",
        " \n",
        "  \n",
        "\n"
      ],
      "metadata": {
        "colab": {
          "base_uri": "https://localhost:8080/",
          "height": 265
        },
        "id": "xwh7owojHTwj",
        "outputId": "94955a42-75d8-4ebc-d159-ff69b9d57260"
      },
      "id": "xwh7owojHTwj",
      "execution_count": 281,
      "outputs": [
        {
          "output_type": "display_data",
          "data": {
            "text/plain": [
              "<Figure size 432x288 with 1 Axes>"
            ],
            "image/png": "[encoded data removed]"
          },
          "metadata": {
            "needs_background": "light"
          }
        }
      ]
    },
    {
      "cell_type": "markdown",
      "source": [],
      "metadata": {
        "id": "zvUAnXJuyQq0"
      },
      "id": "zvUAnXJuyQq0"
    },
    {
      "cell_type": "code",
      "execution_count": 282,
      "id": "5bb4b6d4",
      "metadata": {
        "id": "5bb4b6d4",
        "colab": {
          "base_uri": "https://localhost:8080/"
        },
        "outputId": "950263fa-812b-45cf-a857-a0e6db97affe"
      },
      "outputs": [
        {
          "output_type": "stream",
          "name": "stdout",
          "text": [
            "Mean value: 62.760000000000005\n",
            "Standard dev: 9.849707470524287\n",
            "-----------List of countries ----------------\n",
            "                      Entity Code  Year  Life expectancy at birth (historical)\n",
            "473                  Andorra  AND  1980                                   76.8\n",
            "690      Antigua and Barbuda  ATG  1980                                   73.2\n",
            "1101               Australia  AUS  1980                                   74.6\n",
            "1183                 Austria  AUT  1980                                   72.7\n",
            "1797                 Belgium  BEL  1980                                   73.2\n",
            "2013                 Bermuda  BMU  1980                                   73.5\n",
            "3083                  Canada  CAN  1980                                   75.1\n",
            "3909              Costa Rica  CRI  1980                                   72.9\n",
            "4136                    Cuba  CUB  1980                                   72.8\n",
            "4623                 Denmark  DNK  1980                                   74.1\n",
            "5599          Faeroe Islands  FRO  1980                                   76.2\n",
            "5900                 Finland  FIN  1980                                   73.6\n",
            "6106                  France  FRA  1980                                   74.2\n",
            "6547                 Germany  DEU  1980                                   73.1\n",
            "6692               Gibraltar  GIB  1980                                   73.8\n",
            "6779                  Greece  GRC  1980                                   74.6\n",
            "7217                Guernsey  GGY  1980                                   75.2\n",
            "7580   High-income countries  NaN  1980                                   72.9\n",
            "7727               Hong Kong  HKG  1980                                   74.9\n",
            "7989                 Iceland  ISL  1980                                   76.5\n",
            "8515                  Israel  ISR  1980                                   73.7\n",
            "8665                   Italy  ITA  1980                                   74.1\n",
            "8897                   Japan  JPN  1980                                   76.1\n",
            "10834                  Macao  MAC  1980                                   73.5\n",
            "11966                 Monaco  MCO  1980                                   74.1\n",
            "12859            Netherlands  NLD  1980                                   75.8\n",
            "13005            New Zealand  NZL  1980                                   72.9\n",
            "13522       Northern America  NaN  1980                                   73.8\n",
            "13770                 Norway  NOR  1980                                   75.7\n",
            "14734            Puerto Rico  PRI  1980                                   73.2\n",
            "15769             San Marino  SMR  1980                                   76.0\n",
            "17053                  Spain  ESP  1980                                   75.5\n",
            "17548                 Sweden  SWE  1980                                   75.7\n",
            "17694            Switzerland  CHE  1980                                   75.6\n",
            "19259         United Kingdom  GBR  1980                                   73.6\n",
            "19382          United States  USA  1980                                   73.7\n",
            "19819                Vatican  VAT  1980                                   74.1\n"
          ]
        }
      ],
      "source": [
        "# Which countries have a life expectancy higher than one standard deviation above the mean? \n",
        "\n",
        "# Calculate mean and standard deviation for 1980\n",
        "lifeExpectedMean = LifeExpectData[\"Life expectancy at birth (historical)\"].mean()\n",
        "lifeExpectedStd = LifeExpectData[\"Life expectancy at birth (historical)\"].std()\n",
        "\n",
        "# Sort out countries above mean + standard deviation\n",
        "HigherThanStdAboveMean = LifeExpectData[LifeExpectData [\"Life expectancy at birth (historical)\"] > (lifeExpectedMean + lifeExpectedStd)]\n",
        "\n",
        "# Print values and countries\n",
        "print (\"Mean value:\", lifeExpectedMean)\n",
        "print (\"Standard dev:\", lifeExpectedStd)\n",
        "print (\"-----------List of countries ----------------\")\n",
        "print (HigherThanStdAboveMean)\n",
        "\n",
        "\n",
        "\n"
      ]
    },
    {
      "cell_type": "code",
      "source": [
        "# What if we do the same on the merged data?\n",
        "\n",
        "# Calculate mean and standard deviation for 1980\n",
        "lifeExpectedMean = MergedData[\"Life expectancy at birth (historical)\"].mean()\n",
        "lifeExpectedStd = MergedData[\"Life expectancy at birth (historical)\"].std()\n",
        "\n",
        "# Sort out countries above mean + standard deviation\n",
        "HigherThanStdAboveMean = MergedData[MergedData [\"Life expectancy at birth (historical)\"] > (lifeExpectedMean + lifeExpectedStd)]\n",
        "\n",
        "# Print values and countries\n",
        "print (\"Mean value:\", lifeExpectedMean)\n",
        "print (\"Standard dev:\", lifeExpectedStd)\n",
        "print (\"-----------List of countries ----------------\")\n",
        "print (HigherThanStdAboveMean)\n"
      ],
      "metadata": {
        "id": "cgtntXkquDsd",
        "colab": {
          "base_uri": "https://localhost:8080/"
        },
        "outputId": "0eff28aa-7ea3-4dcb-e752-673c1e494cee"
      },
      "id": "cgtntXkquDsd",
      "execution_count": 283,
      "outputs": [
        {
          "output_type": "stream",
          "name": "stdout",
          "text": [
            "Mean value: 61.85000000000001\n",
            "Standard dev: 10.16825023705827\n",
            "-----------List of countries ----------------\n",
            "             Entity  Life expectancy at birth (historical)  GDP per capita\n",
            "6         Australia                                   74.6        22972.00\n",
            "7           Austria                                   72.7        21932.00\n",
            "13          Belgium                                   73.2        23060.00\n",
            "24           Canada                                   75.1        25784.00\n",
            "33       Costa Rica                                   72.9         7828.00\n",
            "36             Cuba                                   72.8         4106.00\n",
            "40          Denmark                                   74.1        24272.00\n",
            "51          Finland                                   73.6        20640.00\n",
            "52           France                                   74.2        23537.00\n",
            "56          Germany                                   73.1        22497.00\n",
            "58           Greece                                   74.6        14300.00\n",
            "64        Hong Kong                                   74.9        17086.00\n",
            "66          Iceland                                   76.5        24528.00\n",
            "71          Ireland                                   72.5        13614.00\n",
            "72           Israel                                   73.7        17508.00\n",
            "73            Italy                                   74.1        20959.00\n",
            "75            Japan                                   76.1        21404.00\n",
            "88       Luxembourg                                   72.3        24951.00\n",
            "93            Malta                                   72.1         8920.00\n",
            "105     Netherlands                                   75.8        23438.00\n",
            "106     New Zealand                                   72.9        19681.00\n",
            "111          Norway                                   75.7        24031.00\n",
            "121     Puerto Rico                                   73.2        13040.00\n",
            "137           Spain                                   75.5        14008.00\n",
            "139          Sweden                                   75.7        23809.00\n",
            "140     Switzerland                                   75.6        27405.73\n",
            "154  United Kingdom                                   73.6        20612.00\n",
            "155   United States                                   73.7        29611.00\n"
          ]
        }
      ]
    },
    {
      "cell_type": "markdown",
      "source": [
        "**Comment**\n",
        "\n",
        "Here we note that when comparing the original dataset and the merged version, we get different mean and Standard deviation. In the lists we note that e.g Andorra is missing in the merged dataset. This is because it was not present in the GDP-dataset, so we get different results."
      ],
      "metadata": {
        "id": "cElQcRv-t0Cs"
      },
      "id": "cElQcRv-t0Cs"
    },
    {
      "cell_type": "markdown",
      "source": [
        "#**C**\n",
        "\n",
        "**Task**\n",
        "\n",
        "Which countries have high life expectancy but have low GDP? \n",
        "(note: GDP and not GDP per capita in question c and d) \n",
        "\n",
        "Motivate how you have chosen to define “high” and “low”. \n",
        "\n",
        "\n",
        "\n",
        "**Approach**\n",
        "\n",
        "For this we need to get a new dataset with GDP per country: \n",
        "\n",
        "`gdp-world-regions-stacked-area.csv`\n",
        "\n",
        "\n",
        "We will continue to look at 1980.\n",
        "We need to put names (\"Entity\") on the dots and perhaps sort them.\n",
        "We might want to remove the \"bastards\".\n",
        "If the graph is not clear enough, we might need to list the countries and evaluate.\n",
        "\n",
        "**Motivation for high and low**\n",
        "\n",
        "We start out with a visual approach, assuming that in the upper left quarter we will find interesting countries. \n",
        "Therefore, HIGH life expectancy is above 'mean' and LOW GDP is below 'mean'.\n",
        "\n",
        "\n"
      ],
      "metadata": {
        "id": "6hONFbCkySkr"
      },
      "id": "6hONFbCkySkr"
    },
    {
      "cell_type": "code",
      "source": [
        "# ----- Task C -----\n",
        "# Import the dataset\n",
        "\n",
        "file_path_gdpDate = \"/content/drive/MyDrive/test/gdp-world-regions-stacked-area.csv\"\n",
        "gdpData = pd.read_csv(file_path_gdpDate)\n"
      ],
      "metadata": {
        "id": "FGrYwfdo2CYv"
      },
      "id": "FGrYwfdo2CYv",
      "execution_count": 284,
      "outputs": []
    },
    {
      "cell_type": "code",
      "source": [
        "# We will get too much data. The scatter-plotting will be all blue, so we need to narrow down. We select 1980 only.\n",
        "gdpData = gdpData[gdpData['Year'] == 1980]\n",
        "LifeExpectData = LifeExpectData[LifeExpectData['Year'] == 1980]"
      ],
      "metadata": {
        "id": "9ZrlRppE5CY8"
      },
      "id": "9ZrlRppE5CY8",
      "execution_count": 285,
      "outputs": []
    },
    {
      "cell_type": "code",
      "source": [
        "# Now we need to merge the data-sets and remove what we do not need. We keep Entity (country), Life expectency and GDP.\n",
        "\n",
        "MergedData = pd.merge(LifeExpectData[['Entity', 'Life expectancy at birth (historical)']], gdpData[['Entity', 'GDP']], on ='Entity')\n",
        "\n",
        "# Check that the data looks OK.\n",
        "MergedData.head(5)"
      ],
      "metadata": {
        "colab": {
          "base_uri": "https://localhost:8080/",
          "height": 206
        },
        "id": "CTnLwLZy5HDT",
        "outputId": "10e32eec-c762-41fd-fe7e-5552a1aaa93e"
      },
      "id": "CTnLwLZy5HDT",
      "execution_count": 286,
      "outputs": [
        {
          "output_type": "execute_result",
          "data": {
            "text/plain": [
              "        Entity  Life expectancy at birth (historical)           GDP\n",
              "0  Afghanistan                                   39.6   15329836000\n",
              "1      Albania                                   70.5    9993753000\n",
              "2      Algeria                                   53.3   94481650000\n",
              "3       Angola                                   42.4   10330399000\n",
              "4    Argentina                                   68.6  371076960000"
            ],
            "text/html": [
              "\n",
              "  <div id=\"df-8dc0d4cd-5e73-4d52-b44d-606d69fde5f6\">\n",
              "    <div class=\"colab-df-container\">\n",
              "      <div>\n",
              "<style scoped>\n",
              "    .dataframe tbody tr th:only-of-type {\n",
              "        vertical-align: middle;\n",
              "    }\n",
              "\n",
              "    .dataframe tbody tr th {\n",
              "        vertical-align: top;\n",
              "    }\n",
              "\n",
              "    .dataframe thead th {\n",
              "        text-align: right;\n",
              "    }\n",
              "</style>\n",
              "<table border=\"1\" class=\"dataframe\">\n",
              "  <thead>\n",
              "    <tr style=\"text-align: right;\">\n",
              "      <th></th>\n",
              "      <th>Entity</th>\n",
              "      <th>Life expectancy at birth (historical)</th>\n",
              "      <th>GDP</th>\n",
              "    </tr>\n",
              "  </thead>\n",
              "  <tbody>\n",
              "    <tr>\n",
              "      <th>0</th>\n",
              "      <td>Afghanistan</td>\n",
              "      <td>39.6</td>\n",
              "      <td>15329836000</td>\n",
              "    </tr>\n",
              "    <tr>\n",
              "      <th>1</th>\n",
              "      <td>Albania</td>\n",
              "      <td>70.5</td>\n",
              "      <td>9993753000</td>\n",
              "    </tr>\n",
              "    <tr>\n",
              "      <th>2</th>\n",
              "      <td>Algeria</td>\n",
              "      <td>53.3</td>\n",
              "      <td>94481650000</td>\n",
              "    </tr>\n",
              "    <tr>\n",
              "      <th>3</th>\n",
              "      <td>Angola</td>\n",
              "      <td>42.4</td>\n",
              "      <td>10330399000</td>\n",
              "    </tr>\n",
              "    <tr>\n",
              "      <th>4</th>\n",
              "      <td>Argentina</td>\n",
              "      <td>68.6</td>\n",
              "      <td>371076960000</td>\n",
              "    </tr>\n",
              "  </tbody>\n",
              "</table>\n",
              "</div>\n",
              "      <button class=\"colab-df-convert\" onclick=\"convertToInteractive('df-8dc0d4cd-5e73-4d52-b44d-606d69fde5f6')\"\n",
              "              title=\"Convert this dataframe to an interactive table.\"\n",
              "              style=\"display:none;\">\n",
              "        \n",
              "  <svg xmlns=\"http://www.w3.org/2000/svg\" height=\"24px\"viewBox=\"0 0 24 24\"\n",
              "       width=\"24px\">\n",
              "    <path d=\"M0 0h24v24H0V0z\" fill=\"none\"/>\n",
              "    <path d=\"M18.56 5.44l.94 2.06.94-2.06 2.06-.94-2.06-.94-.94-2.06-.94 2.06-2.06.94zm-11 1L8.5 8.5l.94-2.06 2.06-.94-2.06-.94L8.5 2.5l-.94 2.06-2.06.94zm10 10l.94 2.06.94-2.06 2.06-.94-2.06-.94-.94-2.06-.94 2.06-2.06.94z\"/><path d=\"M17.41 7.96l-1.37-1.37c-.4-.4-.92-.59-1.43-.59-.52 0-1.04.2-1.43.59L10.3 9.45l-7.72 7.72c-.78.78-.78 2.05 0 2.83L4 21.41c.39.39.9.59 1.41.59.51 0 1.02-.2 1.41-.59l7.78-7.78 2.81-2.81c.8-.78.8-2.07 0-2.86zM5.41 20L4 18.59l7.72-7.72 1.47 1.35L5.41 20z\"/>\n",
              "  </svg>\n",
              "      </button>\n",
              "      \n",
              "  <style>\n",
              "    .colab-df-container {\n",
              "      display:flex;\n",
              "      flex-wrap:wrap;\n",
              "      gap: 12px;\n",
              "    }\n",
              "\n",
              "    .colab-df-convert {\n",
              "      background-color: #E8F0FE;\n",
              "      border: none;\n",
              "      border-radius: 50%;\n",
              "      cursor: pointer;\n",
              "      display: none;\n",
              "      fill: #1967D2;\n",
              "      height: 32px;\n",
              "      padding: 0 0 0 0;\n",
              "      width: 32px;\n",
              "    }\n",
              "\n",
              "    .colab-df-convert:hover {\n",
              "      background-color: #E2EBFA;\n",
              "      box-shadow: 0px 1px 2px rgba(60, 64, 67, 0.3), 0px 1px 3px 1px rgba(60, 64, 67, 0.15);\n",
              "      fill: #174EA6;\n",
              "    }\n",
              "\n",
              "    [theme=dark] .colab-df-convert {\n",
              "      background-color: #3B4455;\n",
              "      fill: #D2E3FC;\n",
              "    }\n",
              "\n",
              "    [theme=dark] .colab-df-convert:hover {\n",
              "      background-color: #434B5C;\n",
              "      box-shadow: 0px 1px 3px 1px rgba(0, 0, 0, 0.15);\n",
              "      filter: drop-shadow(0px 1px 2px rgba(0, 0, 0, 0.3));\n",
              "      fill: #FFFFFF;\n",
              "    }\n",
              "  </style>\n",
              "\n",
              "      <script>\n",
              "        const buttonEl =\n",
              "          document.querySelector('#df-8dc0d4cd-5e73-4d52-b44d-606d69fde5f6 button.colab-df-convert');\n",
              "        buttonEl.style.display =\n",
              "          google.colab.kernel.accessAllowed ? 'block' : 'none';\n",
              "\n",
              "        async function convertToInteractive(key) {\n",
              "          const element = document.querySelector('#df-8dc0d4cd-5e73-4d52-b44d-606d69fde5f6');\n",
              "          const dataTable =\n",
              "            await google.colab.kernel.invokeFunction('convertToInteractive',\n",
              "                                                     [key], {});\n",
              "          if (!dataTable) return;\n",
              "\n",
              "          const docLinkHtml = 'Like what you see? Visit the ' +\n",
              "            '<a target=\"_blank\" href=https://colab.research.google.com/notebooks/data_table.ipynb>data table notebook</a>'\n",
              "            + ' to learn more about interactive tables.';\n",
              "          element.innerHTML = '';\n",
              "          dataTable['output_type'] = 'display_data';\n",
              "          await google.colab.output.renderOutput(dataTable, element);\n",
              "          const docLink = document.createElement('div');\n",
              "          docLink.innerHTML = docLinkHtml;\n",
              "          element.appendChild(docLink);\n",
              "        }\n",
              "      </script>\n",
              "    </div>\n",
              "  </div>\n",
              "  "
            ]
          },
          "metadata": {},
          "execution_count": 286
        }
      ]
    },
    {
      "cell_type": "code",
      "source": [
        "# Adding some labels and a title to the graph\n",
        "plt.xlabel('GDP')\n",
        "plt.ylabel('Life expectancy')\n",
        "plt.title('1980')\n",
        "\n",
        "\n",
        "# In case we have rows where life expectation OR GDP is missing, we need to remove these.\n",
        "MergedData = MergedData.dropna() \n",
        "\n",
        "# Now, time to scatter \n",
        "plt.scatter(MergedData['GDP'], MergedData['Life expectancy at birth (historical)'])"
      ],
      "metadata": {
        "colab": {
          "base_uri": "https://localhost:8080/",
          "height": 313
        },
        "id": "dNyU7b9F5NGF",
        "outputId": "a7c98719-35b8-4d66-c71d-76d0b8e7a84f"
      },
      "id": "dNyU7b9F5NGF",
      "execution_count": 287,
      "outputs": [
        {
          "output_type": "execute_result",
          "data": {
            "text/plain": [
              "<matplotlib.collections.PathCollection at 0x7f0f162846a0>"
            ]
          },
          "metadata": {},
          "execution_count": 287
        },
        {
          "output_type": "display_data",
          "data": {
            "text/plain": [
              "<Figure size 432x288 with 1 Axes>"
            ],
            "image/png": "[encoded data removed]"
          },
          "metadata": {
            "needs_background": "light"
          }
        }
      ]
    },
    {
      "cell_type": "markdown",
      "source": [
        "**What we've learned so far** \n",
        "\n",
        "We need to put names (\"Entity\") on the dots and perhaps sort them.\n",
        "\n",
        "We might want to remove the \"bastards\".\n",
        "\n",
        "If the graph is not clear enough, we might need to list the countries and evaluate."
      ],
      "metadata": {
        "id": "tLrGpVSs56TT"
      },
      "id": "tLrGpVSs56TT"
    },
    {
      "cell_type": "code",
      "source": [
        "\n",
        "# Plot\n",
        "plt.scatter(MergedData['GDP'], MergedData['Life expectancy at birth (historical)'])\n",
        "\n",
        "# Add labels to each dot\n",
        "for i in range(len(MergedData)):\n",
        "    plt.annotate(MergedData['Entity'][i], (MergedData['GDP'][i], MergedData['Life expectancy at birth (historical)'][i]))\n",
        "                            \n",
        "                              \n"
      ],
      "metadata": {
        "colab": {
          "base_uri": "https://localhost:8080/",
          "height": 278
        },
        "id": "3cysVShe6WEs",
        "outputId": "4b3b69bd-e350-44c2-91bc-deffeaed954a"
      },
      "id": "3cysVShe6WEs",
      "execution_count": 288,
      "outputs": [
        {
          "output_type": "display_data",
          "data": {
            "text/plain": [
              "<Figure size 432x288 with 1 Axes>"
            ],
            "image/png": "[encoded data removed]"
          },
          "metadata": {
            "needs_background": "light"
          }
        }
      ]
    },
    {
      "cell_type": "markdown",
      "source": [
        "Now we have labels, and we see that e.g \"World\" will obscure our data. We might find other aggregated rows, but at this point, we leave it like this for now."
      ],
      "metadata": {
        "id": "uuyNOltKS7Wj"
      },
      "id": "uuyNOltKS7Wj"
    },
    {
      "cell_type": "code",
      "source": [
        "# Need to zoom in on the longest lives and lowest GDP. Focus in upper left (above and under mean)\n",
        "MergedDataLongest = MergedData[MergedData['Life expectancy at birth (historical)'] >=  MergedData[\"Life expectancy at birth (historical)\"].mean()]\n",
        "MergedDataLowest = MergedDataLongest[MergedDataLongest['GDP'] <=  MergedDataLongest[\"GDP\"].mean()]\n",
        "\n",
        "                            \n",
        "# Plot\n",
        "plt.scatter(MergedDataLowest['GDP'], MergedDataLowest['Life expectancy at birth (historical)'])\n",
        "\n",
        "# Add labels to each dot\n",
        "for j in range(len(MergedData)):\n",
        "   plt.annotate(MergedData['Entity'][j], (MergedData['GDP'][j], MergedData['Life expectancy at birth (historical)'][j]))\n",
        "         "
      ],
      "metadata": {
        "colab": {
          "base_uri": "https://localhost:8080/",
          "height": 278
        },
        "id": "4_FX4oOW6fyJ",
        "outputId": "87150f78-a071-4dac-e02a-6bfb2da1f92b"
      },
      "id": "4_FX4oOW6fyJ",
      "execution_count": 289,
      "outputs": [
        {
          "output_type": "display_data",
          "data": {
            "text/plain": [
              "<Figure size 432x288 with 1 Axes>"
            ],
            "image/png": "[encoded data removed]"
          },
          "metadata": {
            "needs_background": "light"
          }
        }
      ]
    },
    {
      "cell_type": "markdown",
      "source": [
        "**Result**\n",
        "\n",
        "We can see that nordic countries, Hong Kong, Switzerland and other smaller countries are at the top in this graph. These are the countries with high life expectancy but have low GDP."
      ],
      "metadata": {
        "id": "A8tbi3Gb6vUt"
      },
      "id": "A8tbi3Gb6vUt"
    },
    {
      "cell_type": "markdown",
      "source": [
        "#**D**\n",
        "\n",
        "**Task**\n",
        "\n",
        "Does every strong economy (normally indicated by GDP) have high life expectancy? \n"
      ],
      "metadata": {
        "id": "W-7dEPf-7iwO"
      },
      "id": "W-7dEPf-7iwO"
    },
    {
      "cell_type": "code",
      "source": [
        "# Need to zoom in on the shortest lives and highest GDP. Focus in lower right.\n",
        "MergedDataShortest = MergedData[MergedData['Life expectancy at birth (historical)'] <=  MergedData[\"Life expectancy at birth (historical)\"].mean()]\n",
        "MergedDataHighest = MergedDataShortest[MergedDataShortest['GDP'] >=  MergedDataShortest[\"GDP\"].mean()]\n",
        "\n",
        "# Need to remove \"World\" from dataset\n",
        "MergedDataHighest = MergedDataHighest.drop(MergedDataHighest[MergedDataHighest['Entity'].str.contains('World')].index)\n",
        "\n",
        "                            \n",
        "# Plot\n",
        "plt.scatter(MergedDataHighest['GDP'], MergedDataHighest['Life expectancy at birth (historical)'])\n",
        "\n",
        "# Add labels to each dot\n",
        "for j in range(len(MergedData)):\n",
        "   plt.annotate(MergedData['Entity'][j], (MergedData['GDP'][j], MergedData['Life expectancy at birth (historical)'][j]))"
      ],
      "metadata": {
        "colab": {
          "base_uri": "https://localhost:8080/",
          "height": 278
        },
        "id": "uvFAosGZ852v",
        "outputId": "93fabba7-7f2b-4449-d869-b1bcf52e5d27"
      },
      "id": "uvFAosGZ852v",
      "execution_count": 290,
      "outputs": [
        {
          "output_type": "display_data",
          "data": {
            "text/plain": [
              "<Figure size 432x288 with 1 Axes>"
            ],
            "image/png": "[encoded data removed]"
          },
          "metadata": {
            "needs_background": "light"
          }
        }
      ]
    },
    {
      "cell_type": "markdown",
      "source": [
        "**Result**\n",
        "\n",
        "Interesting enough, we find India and Brazil having low life expectancy but high GDP, so we conclude:\n",
        "\n",
        "***It is not enough to have a strong economy to also have high life expectancy.***\n"
      ],
      "metadata": {
        "id": "o05dNefIBwfa"
      },
      "id": "o05dNefIBwfa"
    },
    {
      "cell_type": "markdown",
      "source": [
        "#**E**\n",
        "\n",
        "**Task**\n",
        "\n",
        "\n",
        "Related to question d, what would happen if you use GDP per capita as an indicator of a strong economy? \n",
        "\n",
        "Explain the results you obtained, and discuss any insights you get from comparing the results of d and e.\n",
        "\n",
        "\n",
        "\n",
        "**Approach**\n",
        "\n",
        "We compare two graphs (GDP ands GDP per capita) and note how Iceland and India are postitioned in relattion to all other countries in the two graphs\n",
        "\n",
        " "
      ],
      "metadata": {
        "id": "n3I-zK0fCb32"
      },
      "id": "n3I-zK0fCb32"
    },
    {
      "cell_type": "code",
      "source": [
        "# Scatter data with GDP per country\n",
        "\n",
        "# Get rid of \"World\"\n",
        "MergedData = MergedData.drop(MergedData[MergedData['Entity'].str.contains('World')].index)\n",
        "\n",
        "# Regenerate the index to avoid error after removing \"World\"\n",
        "MergedData.reset_index(drop=True, inplace=True)\n",
        "\n",
        "\n",
        "plt.scatter(MergedData['GDP'], MergedData['Life expectancy at birth (historical)'])\n",
        "\n",
        "for j in range(len(MergedData)):\n",
        "  if (MergedData['Entity'][j] == \"Iceland\")or (MergedData['Entity'][j] == \"India\"):\n",
        "    plt.annotate(MergedData['Entity'][j], (MergedData['GDP'][j], MergedData['Life expectancy at birth (historical)'][j]))\n",
        " "
      ],
      "metadata": {
        "colab": {
          "base_uri": "https://localhost:8080/",
          "height": 278
        },
        "id": "i3Nh1d5zpt-3",
        "outputId": "ea6e0cb2-be28-43bd-d0b6-5ae7f240cc7f"
      },
      "id": "i3Nh1d5zpt-3",
      "execution_count": 291,
      "outputs": [
        {
          "output_type": "display_data",
          "data": {
            "text/plain": [
              "<Figure size 432x288 with 1 Axes>"
            ],
            "image/png": "[encoded data removed]"
          },
          "metadata": {
            "needs_background": "light"
          }
        }
      ]
    },
    {
      "cell_type": "code",
      "source": [
        "# Scatter data with GDP per capita and per country\n",
        "\n",
        "MergedDataGDPCapita = pd.merge(LifeExpectData[['Entity', 'Life expectancy at birth (historical)']], gdpDataCapita[['Entity', 'GDP per capita']], on ='Entity')\n",
        "#MergedDataGDPCapita = MergedDataGDPCapita.drop(MergedDataGDPCapita[MergedDataGDPCapita['Entity'].str.contains('World')].index)\n",
        "\n",
        "plt.scatter(MergedDataGDPCapita['GDP per capita'], MergedDataGDPCapita['Life expectancy at birth (historical)'])\n",
        "\n",
        "for j in range(len(MergedDataGDPCapita)):\n",
        "  if (MergedDataGDPCapita['Entity'][j] == \"Iceland\")or (MergedDataGDPCapita['Entity'][j] == \"India\"):\n",
        "    plt.annotate(MergedDataGDPCapita['Entity'][j], (MergedDataGDPCapita['GDP per capita'][j], MergedDataGDPCapita['Life expectancy at birth (historical)'][j]))\n",
        " "
      ],
      "metadata": {
        "colab": {
          "base_uri": "https://localhost:8080/",
          "height": 265
        },
        "id": "hDpR5vaKm0GX",
        "outputId": "8c3eed2d-14d7-4bc4-b76f-15ca56417bb7"
      },
      "id": "hDpR5vaKm0GX",
      "execution_count": 292,
      "outputs": [
        {
          "output_type": "display_data",
          "data": {
            "text/plain": [
              "<Figure size 432x288 with 1 Axes>"
            ],
            "image/png": "[encoded data removed]"
          },
          "metadata": {
            "needs_background": "light"
          }
        }
      ]
    },
    {
      "cell_type": "markdown",
      "source": [
        "As expected, Iceland and India stay at the same hight (Life expectancy). We know that e.g Iceland has a very small population, thus it moves to the right when we use \"pre capita\". India got a big population, thus moves to the left.\n",
        "This shows us that using GDP per capita to illustrate if a country has a strong economy, is a pretty good indicator."
      ],
      "metadata": {
        "id": "O-2N9I11GFbP"
      },
      "id": "O-2N9I11GFbP"
    },
    {
      "cell_type": "markdown",
      "source": [
        "**Comparing E and D**\n",
        "\n",
        "In E we could see that some countries had long life expectency, and that they where rather small in population. And we could see that some other countries, India and Brazil, had huge GDP, but rather low life expectancy. But it was not obvious if GDP could mean high life expectancy.\n",
        "In D, we understood that GDP per capita was a better indicator.\n",
        "\n"
      ],
      "metadata": {
        "id": "xWj71gKvRV19"
      },
      "id": "xWj71gKvRV19"
    }
  ],
  "metadata": {
    "kernelspec": {
      "display_name": "Python 3 (ipykernel)",
      "language": "python",
      "name": "python3"
    },
    "language_info": {
      "codemirror_mode": {
        "name": "ipython",
        "version": 3
      },
      "file_extension": ".py",
      "mimetype": "text/x-python",
      "name": "python",
      "nbconvert_exporter": "python",
      "pygments_lexer": "ipython3",
      "version": "3.9.13"
    },
    "colab": {
      "provenance": []
    }
  },
  "nbformat": 4,
  "nbformat_minor": 5
}